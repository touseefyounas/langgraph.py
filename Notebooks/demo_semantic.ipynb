{
 "cells": [
  {
   "cell_type": "code",
   "execution_count": 190,
   "id": "276ffe97",
   "metadata": {},
   "outputs": [],
   "source": [
    "import os\n",
    "import time\n",
    "from datetime import datetime\n",
    "import sys\n",
    "\n",
    "sys.path.append(os.path.abspath(os.path.join(os.getcwd(), '..')))\n",
    "\n",
    "from dotenv import load_dotenv\n",
    "_ = load_dotenv()"
   ]
  },
  {
   "cell_type": "code",
   "execution_count": 191,
   "id": "0d444cb0",
   "metadata": {},
   "outputs": [],
   "source": [
    "# openai_api_key = os.getenv(\"OPENAI_API_KEY\")\n",
    "\n",
    "# from langchain.chat_models import init_chat_model\n",
    "\n",
    "# llm = init_chat_model(\"openai:gpt-4o-mini\", temperature=0.0)"
   ]
  },
  {
   "cell_type": "code",
   "execution_count": 192,
   "id": "7ae7aa1f",
   "metadata": {},
   "outputs": [],
   "source": [
    "from pydantic import BaseModel, Field\n",
    "from typing_extensions import TypedDict, Literal, Annotated\n",
    "from langchain_ollama import ChatOllama\n",
    "from langchain_core.tools import tool\n",
    "\n",
    "from langgraph.store.memory import InMemoryStore\n",
    "\n",
    "from prompts import triage_system_prompt, triage_user_prompt, agent_system_prompt"
   ]
  },
  {
   "cell_type": "code",
   "execution_count": 193,
   "id": "3a648b62",
   "metadata": {},
   "outputs": [],
   "source": [
    "#####################Local Chat Ollama model######################\n",
    "# Uncomment the following lines to use a local Ollama model instead of OpenAI\n",
    "llm = ChatOllama(model=\"llama3.2:latest\", temperature=0.0)\n",
    "######################Local Chat Ollama model######################"
   ]
  },
  {
   "cell_type": "code",
   "execution_count": 194,
   "id": "eb54f612",
   "metadata": {},
   "outputs": [],
   "source": [
    "profile = {\n",
    "    \"name\": \"John\",\n",
    "    \"full_name\": \"John Doe\",\n",
    "    \"user_profile_background\": \"Senior software engineer leading a team of 5 developers\",\n",
    "}\n",
    "\n",
    "prompt_instructions = {\n",
    "    \"triage_rules\": {\n",
    "        \"ignore\": \"Marketing newsletters, spam emails, mass company announcements\",\n",
    "        \"notify\": \"Team member out sick, build system notifications, project status updates\",\n",
    "        \"respond\": \"Direct questions from team members, meeting requests, critical bug reports\",\n",
    "    },\n",
    "    \"agent_instructions\": \"Use these tools when appropriate to help manage John's tasks efficiently.\"\n",
    "}\n",
    "\n",
    "email = {\n",
    "    \"from\": \"Alice Smith <alice.smith@company.com>\",\n",
    "    \"to\": \"John Doe <john.doe@company.com>\",\n",
    "    \"subject\": \"Quick question about API documentation\",\n",
    "    \"body\": \"\"\"\n",
    "Hi John,\n",
    "\n",
    "I was reviewing the API documentation for the new authentication service and noticed a few endpoints seem to be missing from the specs. Could you help clarify if this was intentional or if we should update the docs?\n",
    "\n",
    "Specifically, I'm looking at:\n",
    "- /auth/refresh\n",
    "- /auth/validate\n",
    "\n",
    "Thanks!\n",
    "Alice\"\"\",\n",
    "}"
   ]
  },
  {
   "cell_type": "code",
   "execution_count": 195,
   "id": "18cceefe",
   "metadata": {},
   "outputs": [],
   "source": [
    "class Router(BaseModel):\n",
    "    \"\"\"Analyze the unread email and route it according to its content.\"\"\"\n",
    "\n",
    "    reasoning: str = Field(\n",
    "        description=\"Step-by-step reasoning behind the classification.\"\n",
    "    )\n",
    "    classification: Literal[\"ignore\", \"respond\", \"notify\"] = Field(\n",
    "        description=\"The classification of an email: 'ignore' for irrelevant emails, \"\n",
    "        \"'notify' for important information that doesn't need a response, \"\n",
    "        \"'respond' for emails that need a reply\",\n",
    "    )\n",
    "\n",
    "llm_router = llm.with_structured_output(Router)"
   ]
  },
  {
   "cell_type": "code",
   "execution_count": 196,
   "id": "f303b9be",
   "metadata": {},
   "outputs": [],
   "source": [
    "@tool\n",
    "def write_email(to: str, subject: str, content: str) -> str:\n",
    "    \"\"\"Write and send an email.\"\"\"\n",
    "        # Placeholder response - in real app would send email\n",
    "    time.sleep(0.1)  # Simulate some processing time\n",
    "    result = f\"Email sent to {to} with subject '{subject}'\"\n",
    "    return result\n",
    "\n",
    "@tool\n",
    "def schedule_meeting(\n",
    "    attendees: list[str], \n",
    "    subject: str, \n",
    "    duration_minutes: int, \n",
    "    preferred_day: str\n",
    ") -> str:\n",
    "    \"\"\"Schedule a calendar meeting.\"\"\"\n",
    "        # Placeholder response - in real app would check calendar and schedule\n",
    "    time.sleep(0.2)  # Simulate some processing time\n",
    "    result = f\"Meeting '{subject}' scheduled for {preferred_day} with {len(attendees)} attendees\"\n",
    "    return result\n",
    "\n",
    "@tool\n",
    "def check_calendar_availability(day: str) -> str:\n",
    "    \"\"\"Check calendar availability for a given day.\"\"\"\n",
    "        # Placeholder response - in real app would check actual calendar\n",
    "    time.sleep(0.15)  # Simulate some processing time\n",
    "    result = f\"Available times on {day}: 9:00 AM, 2:00 PM, 4:00 PM\"\n",
    "    return result\n",
    "\n",
    "store = InMemoryStore(\n",
    "    index={\"embed\": \"openai:text-embedding-3-small\"},\n",
    ")\n",
    "\n",
    "from langmem import create_manage_memory_tool, create_search_memory_tool\n",
    "\n",
    "manage_memory_tool = create_manage_memory_tool(\n",
    "    namespace=(\n",
    "        \"email_assistant\", \n",
    "        \"{langgraph_user_id}\",\n",
    "        \"collection\"\n",
    "    )\n",
    ")\n",
    "search_memory_tool = create_search_memory_tool(\n",
    "    namespace=(\n",
    "        \"email_assistant\",\n",
    "        \"{langgraph_user_id}\",\n",
    "        \"collection\"\n",
    "    )\n",
    ")"
   ]
  },
  {
   "cell_type": "code",
   "execution_count": 197,
   "id": "17af46e5",
   "metadata": {},
   "outputs": [],
   "source": [
    "agent_system_prompt_memory = \"\"\"\n",
    "< Role >\n",
    "You are {full_name}'s executive assistant. You are a top-notch executive assistant who cares about {name} performing as well as possible.\n",
    "</ Role >\n",
    "\n",
    "< Tools >\n",
    "You have access to the following tools to help manage {name}'s communications and schedule:\n",
    "\n",
    "1. write_email(to, subject, content) - Send emails to specified recipients\n",
    "2. schedule_meeting(attendees, subject, duration_minutes, preferred_day) - Schedule calendar meetings\n",
    "3. check_calendar_availability(day) - Check available time slots for a given day\n",
    "4. manage_memory - Store any relevant information about contacts, actions, discussion, etc. in memory for future reference\n",
    "5. search_memory - Search for any relevant information that may have been stored in memory\n",
    "</ Tools >\n",
    "\n",
    "< Instructions >\n",
    "{instructions}\n",
    "</ Instructions >\n",
    "\"\"\"\n",
    "\n",
    "def create_prompt(state):\n",
    "    return [\n",
    "        {\n",
    "            \"role\": \"system\", \n",
    "            \"content\": agent_system_prompt_memory.format(\n",
    "                instructions=prompt_instructions[\"agent_instructions\"], \n",
    "                **profile\n",
    "            )\n",
    "        }\n",
    "    ] + state['messages']"
   ]
  },
  {
   "cell_type": "code",
   "execution_count": 198,
   "id": "790b255f",
   "metadata": {},
   "outputs": [],
   "source": [
    "from langgraph.prebuilt import create_react_agent\n",
    "\n",
    "response_agent = create_react_agent(\n",
    "    llm,\n",
    "    tools=[\n",
    "        write_email, \n",
    "        schedule_meeting, \n",
    "        check_calendar_availability, \n",
    "        manage_memory_tool, \n",
    "        search_memory_tool\n",
    "    ],\n",
    "    prompt=create_prompt,\n",
    "    store=store,\n",
    ")"
   ]
  },
  {
   "cell_type": "code",
   "execution_count": 199,
   "id": "5fcf8112",
   "metadata": {},
   "outputs": [],
   "source": [
    "config = {\"configurable\": {\"langgraph_user_id\": \"lance\"}}"
   ]
  },
  {
   "cell_type": "code",
   "execution_count": null,
   "id": "37556fe6",
   "metadata": {},
   "outputs": [],
   "source": [
    "response = response_agent.invoke(\n",
    "    {\"messages\": [{\"role\": \"user\", \"content\": \"Jim is my friend\"}]},\n",
    "    config=config # type: ignore\n",
    ")\n",
    "\n",
    "for m in response[\"messages\"]:\n",
    "    m.pretty_print()"
   ]
  },
  {
   "cell_type": "code",
   "execution_count": null,
   "id": "e9ad1d5b",
   "metadata": {},
   "outputs": [],
   "source": [
    "response2 = response_agent.invoke(\n",
    "    {\"messages\": [{\"role\":\"user\",\"content\":\"who is Jim?\"}]},\n",
    "    config=config # type: ignore\n",
    ")\n",
    "\n",
    "for m in response2[\"messages\"]:\n",
    "    m.pretty_print()"
   ]
  },
  {
   "cell_type": "code",
   "execution_count": null,
   "id": "ddb4c3cd",
   "metadata": {},
   "outputs": [],
   "source": [
    "store.list_namespaces()"
   ]
  },
  {
   "cell_type": "code",
   "execution_count": null,
   "id": "5185eeab",
   "metadata": {},
   "outputs": [],
   "source": [
    "store.search(('email_assistant', 'lance', 'collection'), query='jim')"
   ]
  },
  {
   "cell_type": "code",
   "execution_count": null,
   "id": "47cda61b",
   "metadata": {},
   "outputs": [],
   "source": [
    "from langgraph.graph import add_messages\n",
    "\n",
    "class State(TypedDict):\n",
    "    email_input: dict\n",
    "    messages: Annotated[list, add_messages]"
   ]
  },
  {
   "cell_type": "code",
   "execution_count": null,
   "id": "fc8af09b",
   "metadata": {},
   "outputs": [],
   "source": [
    "from langgraph.graph import StateGraph, START, END\n",
    "from langgraph.types import Command\n",
    "from typing import Literal\n",
    "from IPython.display import Image, display"
   ]
  },
  {
   "cell_type": "code",
   "execution_count": null,
   "id": "14963c75",
   "metadata": {},
   "outputs": [],
   "source": [
    "def triage_router(state: State) -> Command[\n",
    "    Literal[\"response_agent\", \"__end__\"]\n",
    "]:\n",
    "    author = state['email_input']['author']\n",
    "    to = state['email_input']['to']\n",
    "    subject = state['email_input']['subject']\n",
    "    email_thread = state['email_input']['email_thread']\n",
    "\n",
    "    system_prompt = triage_system_prompt.format(\n",
    "        full_name=profile[\"full_name\"],\n",
    "        name=profile[\"name\"],\n",
    "        user_profile_background=profile[\"user_profile_background\"],\n",
    "        triage_no=prompt_instructions[\"triage_rules\"][\"ignore\"],\n",
    "        triage_notify=prompt_instructions[\"triage_rules\"][\"notify\"],\n",
    "        triage_email=prompt_instructions[\"triage_rules\"][\"respond\"],\n",
    "        examples=None\n",
    "    )\n",
    "    user_prompt = triage_user_prompt.format(\n",
    "        author=author, \n",
    "        to=to, \n",
    "        subject=subject, \n",
    "        email_thread=email_thread\n",
    "    )\n",
    "    result = llm_router.invoke(\n",
    "        [\n",
    "            {\"role\": \"system\", \"content\": system_prompt},\n",
    "            {\"role\": \"user\", \"content\": user_prompt},\n",
    "        ]\n",
    "    )\n",
    "    if result.classification == \"respond\":\n",
    "        print(\"📧 Classification: RESPOND - This email requires a response\")\n",
    "        goto = \"response_agent\"\n",
    "        update = {\n",
    "            \"messages\": [\n",
    "                {\n",
    "                    \"role\": \"user\",\n",
    "                    \"content\": f\"Respond to the email {state['email_input']}\",\n",
    "                }\n",
    "            ]\n",
    "        }\n",
    "    elif result.classification == \"ignore\":\n",
    "        print(\"🚫 Classification: IGNORE - This email can be safely ignored\")\n",
    "        update = None\n",
    "        goto = END\n",
    "    elif result.classification == \"notify\":\n",
    "        # If real life, this would do something else\n",
    "        print(\"🔔 Classification: NOTIFY - This email contains important information\")\n",
    "        update = None\n",
    "        goto = END\n",
    "    else:\n",
    "        raise ValueError(f\"Invalid classification: {result.classification}\")\n",
    "    return Command(goto=goto, update=update)"
   ]
  },
  {
   "cell_type": "code",
   "execution_count": null,
   "id": "fd43aadd",
   "metadata": {},
   "outputs": [],
   "source": [
    "email_agent = StateGraph(State)\n",
    "email_agent = email_agent.add_node(triage_router)\n",
    "email_agent = email_agent.add_node(\"response_agent\", response_agent)\n",
    "email_agent = email_agent.add_edge(START, \"triage_router\")\n",
    "email_agent = email_agent.compile(store=store)"
   ]
  },
  {
   "cell_type": "code",
   "execution_count": null,
   "id": "ae406451",
   "metadata": {},
   "outputs": [],
   "source": [
    "display(Image(email_agent.get_graph(xray=True).draw_mermaid_png()))"
   ]
  },
  {
   "cell_type": "code",
   "execution_count": null,
   "id": "df0703e3",
   "metadata": {},
   "outputs": [],
   "source": [
    "email_input = {\n",
    "    \"author\": \"Alice Smith <alice.smith@company.com>\",\n",
    "    \"to\": \"John Doe <john.doe@company.com>\",\n",
    "    \"subject\": \"Quick question about API documentation\",\n",
    "    \"email_thread\": \"\"\"Hi John,\n",
    "\n",
    "I was reviewing the API documentation for the new authentication service and noticed a few endpoints seem to be missing from the specs. Could you help clarify if this was intentional or if we should update the docs?\n",
    "\n",
    "Specifically, I'm looking at:\n",
    "- /auth/refresh\n",
    "- /auth/validate\n",
    "\n",
    "Thanks!\n",
    "Alice\"\"\",\n",
    "}"
   ]
  },
  {
   "cell_type": "code",
   "execution_count": null,
   "id": "fd802dd4",
   "metadata": {},
   "outputs": [],
   "source": [
    "response = email_agent.invoke( # type: ignore\n",
    "    {\"email_input\": email_input},\n",
    "    config=config\n",
    ")"
   ]
  },
  {
   "cell_type": "code",
   "execution_count": null,
   "id": "7cb7f64e",
   "metadata": {},
   "outputs": [],
   "source": [
    "for m in response[\"messages\"]:\n",
    "    m.pretty_print()"
   ]
  },
  {
   "cell_type": "code",
   "execution_count": null,
   "id": "4afc447e",
   "metadata": {},
   "outputs": [],
   "source": [
    "email_input = {\n",
    "    \"author\": \"Alice Smith <alice.smith@company.com>\",\n",
    "    \"to\": \"John Doe <john.doe@company.com>\",\n",
    "    \"subject\": \"Follow up\",\n",
    "    \"email_thread\": \"\"\"Hi John,\n",
    "\n",
    "Any update on my previous ask?\"\"\",\n",
    "}"
   ]
  },
  {
   "cell_type": "code",
   "execution_count": null,
   "id": "77ce6687",
   "metadata": {},
   "outputs": [],
   "source": [
    "response = email_agent.invoke({\"email_input\": email_input}, config=config)"
   ]
  },
  {
   "cell_type": "code",
   "execution_count": null,
   "id": "4171c058",
   "metadata": {},
   "outputs": [],
   "source": [
    "for m in response[\"messages\"]:\n",
    "    m.pretty_print()"
   ]
  }
 ],
 "metadata": {
  "kernelspec": {
   "display_name": ".venv",
   "language": "python",
   "name": "python3"
  },
  "language_info": {
   "codemirror_mode": {
    "name": "ipython",
    "version": 3
   },
   "file_extension": ".py",
   "mimetype": "text/x-python",
   "name": "python",
   "nbconvert_exporter": "python",
   "pygments_lexer": "ipython3",
   "version": "3.13.3"
  }
 },
 "nbformat": 4,
 "nbformat_minor": 5
}
